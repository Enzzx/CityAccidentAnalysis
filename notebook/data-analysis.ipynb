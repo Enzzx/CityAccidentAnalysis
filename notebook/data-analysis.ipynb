{
 "cells": [
  {
   "cell_type": "markdown",
   "id": "7426e796",
   "metadata": {},
   "source": [
    "# Análise dos Datasets"
   ]
  },
  {
   "cell_type": "code",
   "execution_count": 3,
   "id": "485368e1",
   "metadata": {},
   "outputs": [],
   "source": [
    "import pandas as pd\n",
    "import seaborn as sns"
   ]
  },
  {
   "cell_type": "code",
   "execution_count": 4,
   "id": "389bd760",
   "metadata": {},
   "outputs": [],
   "source": [
    "dfp = pd.read_csv(\"../data/pessoas_completo_limpo.csv\")\n",
    "dfs = pd.read_csv(\"../data/sinistros_completo_limpo.csv\")\n",
    "dfv = pd.read_csv(\"../data/veiculos_completo_limpo.csv\")"
   ]
  },
  {
   "cell_type": "code",
   "execution_count": 6,
   "id": "676cefc5",
   "metadata": {},
   "outputs": [
    {
     "data": {
      "text/plain": [
       "2023    243072\n",
       "2024    233574\n",
       "2022    225605\n",
       "2021    220402\n",
       "2019    209099\n",
       "2020    196282\n",
       "2025     88798\n",
       "2015     10654\n",
       "2017      9849\n",
       "2016      9776\n",
       "2018      6945\n",
       "2014        11\n",
       "Name: ano_sinistro, dtype: int64"
      ]
     },
     "execution_count": 6,
     "metadata": {},
     "output_type": "execute_result"
    }
   ],
   "source": [
    "dfv[\"ano_sinistro\"].value_counts()"
   ]
  },
  {
   "cell_type": "markdown",
   "id": "75024ce3",
   "metadata": {},
   "source": [
    "Como em todos os dataframes há uma quantidade muito menor de registros nos anos entre 2014-2018, seus valores serão desconsiderados para que a análise seja mais confiável no período estudado"
   ]
  },
  {
   "cell_type": "code",
   "execution_count": 10,
   "id": "7e7c71e6",
   "metadata": {},
   "outputs": [],
   "source": [
    "#(dfp[\"ano_sinistro\"] < 2019).sum()\n",
    "dfp = dfp[dfp[\"ano_sinistro\"] >= 2019]\n",
    "dfs = dfs[dfs[\"ano_sinistro\"] >= 2019]\n",
    "dfv = dfv[dfv[\"ano_sinistro\"] >= 2019]"
   ]
  },
  {
   "cell_type": "code",
   "execution_count": null,
   "id": "c2059671",
   "metadata": {},
   "outputs": [],
   "source": []
  }
 ],
 "metadata": {
  "kernelspec": {
   "display_name": "Python 3 (ipykernel)",
   "language": "python",
   "name": "python3"
  },
  "language_info": {
   "codemirror_mode": {
    "name": "ipython",
    "version": 3
   },
   "file_extension": ".py",
   "mimetype": "text/x-python",
   "name": "python",
   "nbconvert_exporter": "python",
   "pygments_lexer": "ipython3",
   "version": "3.11.2"
  }
 },
 "nbformat": 4,
 "nbformat_minor": 5
}
