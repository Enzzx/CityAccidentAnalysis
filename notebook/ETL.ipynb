{
 "cells": [
  {
   "cell_type": "code",
   "execution_count": 1,
   "id": "9b5d09a6-1835-40eb-8d74-7e18ee859fc8",
   "metadata": {},
   "outputs": [
    {
     "name": "stdout",
     "output_type": "stream",
     "text": [
      "Fala\n"
     ]
    }
   ],
   "source": [
    "print(\"Fala\")"
   ]
  },
  {
   "cell_type": "code",
   "execution_count": 1,
   "id": "8dcedd15-0df0-473c-a485-f9482964fc32",
   "metadata": {},
   "outputs": [],
   "source": [
    "import pandas as pd"
   ]
  },
  {
   "cell_type": "code",
   "execution_count": 2,
   "id": "cb04f32d",
   "metadata": {},
   "outputs": [],
   "source": [
    "month_convert = {\n",
    "    1: \"Janeiro\", 2: \"Fevereiro\", 3: \"Março\", 4: \"Abril\", 5: \"Maio\", 6: \"Junho\",\n",
    "    7: \"Julho\", 8: \"Agosto\", 9: \"Setembro\", 10: \"Outubro\", 11: \"Novemrbo\", 12: \"Dezembro\"\n",
    "}"
   ]
  },
  {
   "cell_type": "markdown",
   "id": "bccaab4c",
   "metadata": {},
   "source": [
    "# Análise do CSV _pessoas_completo_"
   ]
  },
  {
   "cell_type": "code",
   "execution_count": 3,
   "id": "8759d0fc-5f26-4675-9b89-6f205cfc7129",
   "metadata": {},
   "outputs": [],
   "source": [
    "df = pd.read_csv(\"../data/pessoas_completo.csv\")"
   ]
  },
  {
   "cell_type": "code",
   "execution_count": 4,
   "id": "e75b1549-fcbe-4dd2-ba09-95c95b9d2eb1",
   "metadata": {},
   "outputs": [
    {
     "name": "stdout",
     "output_type": "stream",
     "text": [
      "<class 'pandas.core.frame.DataFrame'>\n",
      "RangeIndex: 1030387 entries, 0 to 1030386\n",
      "Data columns (total 21 columns):\n",
      " #   Column                    Non-Null Count    Dtype  \n",
      "---  ------                    --------------    -----  \n",
      " 0   id_sinistro               1030387 non-null  int64  \n",
      " 1   municipio                 1030380 non-null  object \n",
      " 2   tipo_via                  1030387 non-null  object \n",
      " 3   tipo_veiculo_vitima       58157 non-null    object \n",
      " 4   sexo                      1030387 non-null  object \n",
      " 5   idade                     1013700 non-null  float64\n",
      " 6   data_obito                58157 non-null    object \n",
      " 7   gravidade_lesao           1030387 non-null  object \n",
      " 8   tipo_de vítima            992638 non-null   object \n",
      " 9   faixa_etaria_demografica  1030387 non-null  object \n",
      " 10  faixa_etaria_legal        1030387 non-null  object \n",
      " 11  profissao                 852894 non-null   object \n",
      " 12  data_sinistro             1030387 non-null  object \n",
      " 13  ano_sinistro              1030387 non-null  int64  \n",
      " 14  mes_sinistro              1030387 non-null  int64  \n",
      " 15  dia_sinistro              1030387 non-null  int64  \n",
      " 16  ano_mes_sinistro          1030387 non-null  object \n",
      " 17  ano_obito                 58157 non-null    float64\n",
      " 18  mes_obito                 58157 non-null    float64\n",
      " 19  dia_obito                 58157 non-null    float64\n",
      " 20  ano_mes_obito             58157 non-null    object \n",
      "dtypes: float64(4), int64(4), object(13)\n",
      "memory usage: 165.1+ MB\n"
     ]
    }
   ],
   "source": [
    "df.info()"
   ]
  },
  {
   "cell_type": "code",
   "execution_count": 5,
   "id": "6e842e51-0f41-4839-8808-3079ca3388c6",
   "metadata": {},
   "outputs": [
    {
     "data": {
      "text/html": [
       "<div>\n",
       "<style scoped>\n",
       "    .dataframe tbody tr th:only-of-type {\n",
       "        vertical-align: middle;\n",
       "    }\n",
       "\n",
       "    .dataframe tbody tr th {\n",
       "        vertical-align: top;\n",
       "    }\n",
       "\n",
       "    .dataframe thead th {\n",
       "        text-align: right;\n",
       "    }\n",
       "</style>\n",
       "<table border=\"1\" class=\"dataframe\">\n",
       "  <thead>\n",
       "    <tr style=\"text-align: right;\">\n",
       "      <th></th>\n",
       "      <th>id_sinistro</th>\n",
       "      <th>idade</th>\n",
       "      <th>ano_sinistro</th>\n",
       "      <th>mes_sinistro</th>\n",
       "      <th>dia_sinistro</th>\n",
       "      <th>ano_obito</th>\n",
       "      <th>mes_obito</th>\n",
       "      <th>dia_obito</th>\n",
       "    </tr>\n",
       "  </thead>\n",
       "  <tbody>\n",
       "    <tr>\n",
       "      <th>count</th>\n",
       "      <td>1.030387e+06</td>\n",
       "      <td>1.013700e+06</td>\n",
       "      <td>1.030387e+06</td>\n",
       "      <td>1.030387e+06</td>\n",
       "      <td>1.030387e+06</td>\n",
       "      <td>58157.000000</td>\n",
       "      <td>58157.000000</td>\n",
       "      <td>58157.000000</td>\n",
       "    </tr>\n",
       "    <tr>\n",
       "      <th>mean</th>\n",
       "      <td>1.943842e+06</td>\n",
       "      <td>3.444966e+01</td>\n",
       "      <td>2.021658e+03</td>\n",
       "      <td>6.499242e+00</td>\n",
       "      <td>1.560665e+01</td>\n",
       "      <td>2019.789501</td>\n",
       "      <td>6.497257</td>\n",
       "      <td>15.580119</td>\n",
       "    </tr>\n",
       "    <tr>\n",
       "      <th>std</th>\n",
       "      <td>3.947906e+05</td>\n",
       "      <td>1.510009e+01</td>\n",
       "      <td>2.027790e+00</td>\n",
       "      <td>3.376548e+00</td>\n",
       "      <td>8.735699e+00</td>\n",
       "      <td>3.169683</td>\n",
       "      <td>3.378640</td>\n",
       "      <td>8.779323</td>\n",
       "    </tr>\n",
       "    <tr>\n",
       "      <th>min</th>\n",
       "      <td>1.256212e+06</td>\n",
       "      <td>0.000000e+00</td>\n",
       "      <td>2.014000e+03</td>\n",
       "      <td>1.000000e+00</td>\n",
       "      <td>1.000000e+00</td>\n",
       "      <td>2015.000000</td>\n",
       "      <td>1.000000</td>\n",
       "      <td>1.000000</td>\n",
       "    </tr>\n",
       "    <tr>\n",
       "      <th>25%</th>\n",
       "      <td>1.602038e+06</td>\n",
       "      <td>2.300000e+01</td>\n",
       "      <td>2.020000e+03</td>\n",
       "      <td>4.000000e+00</td>\n",
       "      <td>8.000000e+00</td>\n",
       "      <td>2017.000000</td>\n",
       "      <td>4.000000</td>\n",
       "      <td>8.000000</td>\n",
       "    </tr>\n",
       "    <tr>\n",
       "      <th>50%</th>\n",
       "      <td>1.943348e+06</td>\n",
       "      <td>3.100000e+01</td>\n",
       "      <td>2.022000e+03</td>\n",
       "      <td>6.000000e+00</td>\n",
       "      <td>1.600000e+01</td>\n",
       "      <td>2020.000000</td>\n",
       "      <td>6.000000</td>\n",
       "      <td>16.000000</td>\n",
       "    </tr>\n",
       "    <tr>\n",
       "      <th>75%</th>\n",
       "      <td>2.278146e+06</td>\n",
       "      <td>4.300000e+01</td>\n",
       "      <td>2.023000e+03</td>\n",
       "      <td>9.000000e+00</td>\n",
       "      <td>2.300000e+01</td>\n",
       "      <td>2023.000000</td>\n",
       "      <td>9.000000</td>\n",
       "      <td>23.000000</td>\n",
       "    </tr>\n",
       "    <tr>\n",
       "      <th>max</th>\n",
       "      <td>2.644715e+06</td>\n",
       "      <td>2.700000e+02</td>\n",
       "      <td>2.025000e+03</td>\n",
       "      <td>1.200000e+01</td>\n",
       "      <td>3.100000e+01</td>\n",
       "      <td>2025.000000</td>\n",
       "      <td>12.000000</td>\n",
       "      <td>31.000000</td>\n",
       "    </tr>\n",
       "  </tbody>\n",
       "</table>\n",
       "</div>"
      ],
      "text/plain": [
       "        id_sinistro         idade  ano_sinistro  mes_sinistro  dia_sinistro  \\\n",
       "count  1.030387e+06  1.013700e+06  1.030387e+06  1.030387e+06  1.030387e+06   \n",
       "mean   1.943842e+06  3.444966e+01  2.021658e+03  6.499242e+00  1.560665e+01   \n",
       "std    3.947906e+05  1.510009e+01  2.027790e+00  3.376548e+00  8.735699e+00   \n",
       "min    1.256212e+06  0.000000e+00  2.014000e+03  1.000000e+00  1.000000e+00   \n",
       "25%    1.602038e+06  2.300000e+01  2.020000e+03  4.000000e+00  8.000000e+00   \n",
       "50%    1.943348e+06  3.100000e+01  2.022000e+03  6.000000e+00  1.600000e+01   \n",
       "75%    2.278146e+06  4.300000e+01  2.023000e+03  9.000000e+00  2.300000e+01   \n",
       "max    2.644715e+06  2.700000e+02  2.025000e+03  1.200000e+01  3.100000e+01   \n",
       "\n",
       "          ano_obito     mes_obito     dia_obito  \n",
       "count  58157.000000  58157.000000  58157.000000  \n",
       "mean    2019.789501      6.497257     15.580119  \n",
       "std        3.169683      3.378640      8.779323  \n",
       "min     2015.000000      1.000000      1.000000  \n",
       "25%     2017.000000      4.000000      8.000000  \n",
       "50%     2020.000000      6.000000     16.000000  \n",
       "75%     2023.000000      9.000000     23.000000  \n",
       "max     2025.000000     12.000000     31.000000  "
      ]
     },
     "execution_count": 5,
     "metadata": {},
     "output_type": "execute_result"
    }
   ],
   "source": [
    "df.describe()"
   ]
  },
  {
   "cell_type": "code",
   "execution_count": 6,
   "id": "c01e52ae-62c9-470b-81b4-191f7f9433c9",
   "metadata": {},
   "outputs": [
    {
     "data": {
      "text/html": [
       "<div>\n",
       "<style scoped>\n",
       "    .dataframe tbody tr th:only-of-type {\n",
       "        vertical-align: middle;\n",
       "    }\n",
       "\n",
       "    .dataframe tbody tr th {\n",
       "        vertical-align: top;\n",
       "    }\n",
       "\n",
       "    .dataframe thead th {\n",
       "        text-align: right;\n",
       "    }\n",
       "</style>\n",
       "<table border=\"1\" class=\"dataframe\">\n",
       "  <thead>\n",
       "    <tr style=\"text-align: right;\">\n",
       "      <th></th>\n",
       "      <th>id_sinistro</th>\n",
       "      <th>municipio</th>\n",
       "      <th>tipo_via</th>\n",
       "      <th>tipo_veiculo_vitima</th>\n",
       "      <th>sexo</th>\n",
       "      <th>idade</th>\n",
       "      <th>data_obito</th>\n",
       "      <th>gravidade_lesao</th>\n",
       "      <th>tipo_de vítima</th>\n",
       "      <th>faixa_etaria_demografica</th>\n",
       "      <th>...</th>\n",
       "      <th>profissao</th>\n",
       "      <th>data_sinistro</th>\n",
       "      <th>ano_sinistro</th>\n",
       "      <th>mes_sinistro</th>\n",
       "      <th>dia_sinistro</th>\n",
       "      <th>ano_mes_sinistro</th>\n",
       "      <th>ano_obito</th>\n",
       "      <th>mes_obito</th>\n",
       "      <th>dia_obito</th>\n",
       "      <th>ano_mes_obito</th>\n",
       "    </tr>\n",
       "  </thead>\n",
       "  <tbody>\n",
       "    <tr>\n",
       "      <th>0</th>\n",
       "      <td>2463323</td>\n",
       "      <td>SAO PAULO</td>\n",
       "      <td>VIAS MUNICIPAIS</td>\n",
       "      <td>PEDESTRE</td>\n",
       "      <td>MASCULINO</td>\n",
       "      <td>51.0</td>\n",
       "      <td>01/01/2015</td>\n",
       "      <td>FATAL</td>\n",
       "      <td>PEDESTRE</td>\n",
       "      <td>50 a 54</td>\n",
       "      <td>...</td>\n",
       "      <td>NaN</td>\n",
       "      <td>01/01/2015</td>\n",
       "      <td>2015</td>\n",
       "      <td>1</td>\n",
       "      <td>1</td>\n",
       "      <td>2015/01</td>\n",
       "      <td>2015.0</td>\n",
       "      <td>1.0</td>\n",
       "      <td>1.0</td>\n",
       "      <td>2015/01</td>\n",
       "    </tr>\n",
       "    <tr>\n",
       "      <th>1</th>\n",
       "      <td>2465127</td>\n",
       "      <td>SAO PAULO</td>\n",
       "      <td>VIAS MUNICIPAIS</td>\n",
       "      <td>PEDESTRE</td>\n",
       "      <td>MASCULINO</td>\n",
       "      <td>89.0</td>\n",
       "      <td>03/01/2015</td>\n",
       "      <td>FATAL</td>\n",
       "      <td>PEDESTRE</td>\n",
       "      <td>85 a 89</td>\n",
       "      <td>...</td>\n",
       "      <td>NaN</td>\n",
       "      <td>03/01/2015</td>\n",
       "      <td>2015</td>\n",
       "      <td>1</td>\n",
       "      <td>3</td>\n",
       "      <td>2015/01</td>\n",
       "      <td>2015.0</td>\n",
       "      <td>1.0</td>\n",
       "      <td>3.0</td>\n",
       "      <td>2015/01</td>\n",
       "    </tr>\n",
       "    <tr>\n",
       "      <th>2</th>\n",
       "      <td>2462123</td>\n",
       "      <td>SAO PAULO</td>\n",
       "      <td>VIAS MUNICIPAIS</td>\n",
       "      <td>PEDESTRE</td>\n",
       "      <td>MASCULINO</td>\n",
       "      <td>67.0</td>\n",
       "      <td>05/01/2015</td>\n",
       "      <td>FATAL</td>\n",
       "      <td>PEDESTRE</td>\n",
       "      <td>65 a 69</td>\n",
       "      <td>...</td>\n",
       "      <td>NaN</td>\n",
       "      <td>05/01/2015</td>\n",
       "      <td>2015</td>\n",
       "      <td>1</td>\n",
       "      <td>5</td>\n",
       "      <td>2015/01</td>\n",
       "      <td>2015.0</td>\n",
       "      <td>1.0</td>\n",
       "      <td>5.0</td>\n",
       "      <td>2015/01</td>\n",
       "    </tr>\n",
       "    <tr>\n",
       "      <th>3</th>\n",
       "      <td>2506869</td>\n",
       "      <td>MOGI GUACU</td>\n",
       "      <td>VIAS MUNICIPAIS</td>\n",
       "      <td>NAO DISPONIVEL</td>\n",
       "      <td>NAO DISPONIVEL</td>\n",
       "      <td>44.0</td>\n",
       "      <td>09/01/2015</td>\n",
       "      <td>FATAL</td>\n",
       "      <td>NAO DISPONIVEL</td>\n",
       "      <td>40 a 44</td>\n",
       "      <td>...</td>\n",
       "      <td>NaN</td>\n",
       "      <td>09/01/2015</td>\n",
       "      <td>2015</td>\n",
       "      <td>1</td>\n",
       "      <td>9</td>\n",
       "      <td>2015/01</td>\n",
       "      <td>2015.0</td>\n",
       "      <td>1.0</td>\n",
       "      <td>9.0</td>\n",
       "      <td>2015/01</td>\n",
       "    </tr>\n",
       "    <tr>\n",
       "      <th>4</th>\n",
       "      <td>2490194</td>\n",
       "      <td>COTIA</td>\n",
       "      <td>RODOVIAS</td>\n",
       "      <td>AUTOMOVEL</td>\n",
       "      <td>MASCULINO</td>\n",
       "      <td>28.0</td>\n",
       "      <td>11/01/2015</td>\n",
       "      <td>FATAL</td>\n",
       "      <td>CONDUTOR</td>\n",
       "      <td>25 a 29</td>\n",
       "      <td>...</td>\n",
       "      <td>NaN</td>\n",
       "      <td>11/01/2015</td>\n",
       "      <td>2015</td>\n",
       "      <td>1</td>\n",
       "      <td>11</td>\n",
       "      <td>2015/01</td>\n",
       "      <td>2015.0</td>\n",
       "      <td>1.0</td>\n",
       "      <td>11.0</td>\n",
       "      <td>2015/01</td>\n",
       "    </tr>\n",
       "  </tbody>\n",
       "</table>\n",
       "<p>5 rows × 21 columns</p>\n",
       "</div>"
      ],
      "text/plain": [
       "   id_sinistro   municipio         tipo_via tipo_veiculo_vitima  \\\n",
       "0      2463323   SAO PAULO  VIAS MUNICIPAIS            PEDESTRE   \n",
       "1      2465127   SAO PAULO  VIAS MUNICIPAIS            PEDESTRE   \n",
       "2      2462123   SAO PAULO  VIAS MUNICIPAIS            PEDESTRE   \n",
       "3      2506869  MOGI GUACU  VIAS MUNICIPAIS      NAO DISPONIVEL   \n",
       "4      2490194       COTIA         RODOVIAS           AUTOMOVEL   \n",
       "\n",
       "             sexo  idade  data_obito gravidade_lesao  tipo_de vítima  \\\n",
       "0       MASCULINO   51.0  01/01/2015           FATAL        PEDESTRE   \n",
       "1       MASCULINO   89.0  03/01/2015           FATAL        PEDESTRE   \n",
       "2       MASCULINO   67.0  05/01/2015           FATAL        PEDESTRE   \n",
       "3  NAO DISPONIVEL   44.0  09/01/2015           FATAL  NAO DISPONIVEL   \n",
       "4       MASCULINO   28.0  11/01/2015           FATAL        CONDUTOR   \n",
       "\n",
       "  faixa_etaria_demografica  ... profissao data_sinistro ano_sinistro  \\\n",
       "0                  50 a 54  ...       NaN    01/01/2015         2015   \n",
       "1                  85 a 89  ...       NaN    03/01/2015         2015   \n",
       "2                  65 a 69  ...       NaN    05/01/2015         2015   \n",
       "3                  40 a 44  ...       NaN    09/01/2015         2015   \n",
       "4                  25 a 29  ...       NaN    11/01/2015         2015   \n",
       "\n",
       "   mes_sinistro  dia_sinistro  ano_mes_sinistro ano_obito  mes_obito  \\\n",
       "0             1             1           2015/01    2015.0        1.0   \n",
       "1             1             3           2015/01    2015.0        1.0   \n",
       "2             1             5           2015/01    2015.0        1.0   \n",
       "3             1             9           2015/01    2015.0        1.0   \n",
       "4             1            11           2015/01    2015.0        1.0   \n",
       "\n",
       "   dia_obito  ano_mes_obito  \n",
       "0        1.0        2015/01  \n",
       "1        3.0        2015/01  \n",
       "2        5.0        2015/01  \n",
       "3        9.0        2015/01  \n",
       "4       11.0        2015/01  \n",
       "\n",
       "[5 rows x 21 columns]"
      ]
     },
     "execution_count": 6,
     "metadata": {},
     "output_type": "execute_result"
    }
   ],
   "source": [
    "df.head()"
   ]
  },
  {
   "cell_type": "code",
   "execution_count": 7,
   "id": "bbc2eb4a-a47c-4b77-b867-d203ed72e668",
   "metadata": {},
   "outputs": [
    {
     "data": {
      "text/plain": [
       "id_sinistro                 1030387\n",
       "municipio                   1030380\n",
       "tipo_via                    1030387\n",
       "tipo_veiculo_vitima           58157\n",
       "sexo                        1030387\n",
       "idade                       1013700\n",
       "data_obito                    58157\n",
       "gravidade_lesao             1030387\n",
       "tipo_de vítima               992638\n",
       "faixa_etaria_demografica    1030387\n",
       "faixa_etaria_legal          1030387\n",
       "profissao                    852894\n",
       "data_sinistro               1030387\n",
       "ano_sinistro                1030387\n",
       "mes_sinistro                1030387\n",
       "dia_sinistro                1030387\n",
       "ano_mes_sinistro            1030387\n",
       "ano_obito                     58157\n",
       "mes_obito                     58157\n",
       "dia_obito                     58157\n",
       "ano_mes_obito                 58157\n",
       "dtype: int64"
      ]
     },
     "execution_count": 7,
     "metadata": {},
     "output_type": "execute_result"
    }
   ],
   "source": [
    "df.count()"
   ]
  },
  {
   "cell_type": "code",
   "execution_count": 8,
   "id": "97abb039-1e9b-4a63-a674-c9f8c0c43989",
   "metadata": {},
   "outputs": [
    {
     "data": {
      "text/plain": [
       "id_sinistro                      0\n",
       "municipio                        7\n",
       "tipo_via                         0\n",
       "tipo_veiculo_vitima         972230\n",
       "sexo                             0\n",
       "idade                        16687\n",
       "data_obito                  972230\n",
       "gravidade_lesao                  0\n",
       "tipo_de vítima               37749\n",
       "faixa_etaria_demografica         0\n",
       "faixa_etaria_legal               0\n",
       "profissao                   177493\n",
       "data_sinistro                    0\n",
       "ano_sinistro                     0\n",
       "mes_sinistro                     0\n",
       "dia_sinistro                     0\n",
       "ano_mes_sinistro                 0\n",
       "ano_obito                   972230\n",
       "mes_obito                   972230\n",
       "dia_obito                   972230\n",
       "ano_mes_obito               972230\n",
       "dtype: int64"
      ]
     },
     "execution_count": 8,
     "metadata": {},
     "output_type": "execute_result"
    }
   ],
   "source": [
    "df.isna().sum()"
   ]
  },
  {
   "cell_type": "code",
   "execution_count": 9,
   "id": "7c35fc25-d34b-4629-bd7a-c9a73502067e",
   "metadata": {},
   "outputs": [
    {
     "data": {
      "text/plain": [
       "972230"
      ]
     },
     "execution_count": 9,
     "metadata": {},
     "output_type": "execute_result"
    }
   ],
   "source": [
    "df[\"mes_obito\"].isna().sum()"
   ]
  },
  {
   "cell_type": "code",
   "execution_count": 10,
   "id": "f223c906-4b86-4d51-bc6d-bda2774b23bf",
   "metadata": {},
   "outputs": [
    {
     "data": {
      "text/plain": [
       "18-24             255252\n",
       "25-29             151949\n",
       "30-34             119826\n",
       "35-39             105705\n",
       "40-44              89428\n",
       "45-49              67832\n",
       "0-17               57686\n",
       "50-54              52031\n",
       "55-59              38860\n",
       "60-64              27391\n",
       "65-69              18895\n",
       "NAO DISPONIVEL     16687\n",
       "70-74              12662\n",
       "75-79               8355\n",
       "80 ou mais          7828\n",
       "Name: faixa_etaria_legal, dtype: int64"
      ]
     },
     "execution_count": 10,
     "metadata": {},
     "output_type": "execute_result"
    }
   ],
   "source": [
    "df[\"faixa_etaria_legal\"].value_counts()"
   ]
  },
  {
   "cell_type": "markdown",
   "id": "92428c25",
   "metadata": {},
   "source": [
    "## Removendo colunas e linhas\n",
    "Alguns dados da tabela estão com valores desnecessários pra análise"
   ]
  },
  {
   "cell_type": "markdown",
   "id": "4dfe5228",
   "metadata": {},
   "source": [
    "Verificando se todos os acidentes que são fatais contém data do óbito"
   ]
  },
  {
   "cell_type": "code",
   "execution_count": 11,
   "id": "4719dcc2-b430-4988-b9ad-55afb3f35b54",
   "metadata": {},
   "outputs": [
    {
     "data": {
      "text/plain": [
       "0"
      ]
     },
     "execution_count": 11,
     "metadata": {},
     "output_type": "execute_result"
    }
   ],
   "source": [
    "((df[\"gravidade_lesao\"] == \"FATAL\") & (df[\"data_obito\"].isna())).sum()"
   ]
  },
  {
   "cell_type": "markdown",
   "id": "024d55c9",
   "metadata": {},
   "source": [
    "Removendo colunas **ano_mes_obito, ano_mes_sinistro, data_obito** e **data_sinistro** pois são redundantes"
   ]
  },
  {
   "cell_type": "code",
   "execution_count": 12,
   "id": "dacd75cd-ff0f-4f23-9648-99cf517fe060",
   "metadata": {},
   "outputs": [],
   "source": [
    "df = df.drop(columns=[\"ano_mes_sinistro\", \"ano_mes_obito\", \"data_obito\", \"data_sinistro\"])"
   ]
  },
  {
   "cell_type": "markdown",
   "id": "fd2cf481",
   "metadata": {},
   "source": [
    "Removendo linhas com valor nulo nas colunas **municipio** e **tipo_via** "
   ]
  },
  {
   "cell_type": "code",
   "execution_count": 13,
   "id": "7a89c0d5-e248-4bbe-83a3-efc14222bbcf",
   "metadata": {},
   "outputs": [],
   "source": [
    "df = df.dropna(subset=[\"municipio\", \"tipo_via\"])"
   ]
  },
  {
   "cell_type": "markdown",
   "id": "90f833f7",
   "metadata": {},
   "source": [
    "Verificando se **faixa_etaria_demografica** e **faixa_etaria_legal** são redundantes"
   ]
  },
  {
   "cell_type": "code",
   "execution_count": 14,
   "id": "5c69a820",
   "metadata": {},
   "outputs": [
    {
     "name": "stdout",
     "output_type": "stream",
     "text": [
      "faixa demográfica: ['50 a 54' '85 a 89' '65 a 69' '40 a 44' '25 a 29' '60 a 64' '05 a 09'\n",
      " '30 a 34' '20 a 24' '15 a 19' '00 a 04' '70 a 74' '75 a 79'\n",
      " 'NAO DISPONIVEL' '35 a 39' '55 a 59' '45 a 49' '80 a 84' '10 a 14'\n",
      " '90 e +']\n",
      "faixa legal: ['50-54' '80 ou mais' '65-69' '40-44' '25-29' '60-64' '0-17' '30-34'\n",
      " '18-24' '70-74' '75-79' 'NAO DISPONIVEL' '35-39' '55-59' '45-49']\n"
     ]
    }
   ],
   "source": [
    "print(\"faixa demográfica:\", df[\"faixa_etaria_demografica\"].unique())\n",
    "print(\"faixa legal:\", df[\"faixa_etaria_legal\"].unique())"
   ]
  },
  {
   "cell_type": "markdown",
   "id": "4a637ee5",
   "metadata": {},
   "source": [
    "Como os valores de ambas colunas são fortemente semelhantes optarei por manter apenas uma delas"
   ]
  },
  {
   "cell_type": "code",
   "execution_count": 15,
   "id": "54f4b8ef",
   "metadata": {},
   "outputs": [],
   "source": [
    "df = df.drop(\"faixa_etaria_demografica\", axis=1)"
   ]
  },
  {
   "cell_type": "markdown",
   "id": "50344264",
   "metadata": {},
   "source": [
    "## Renomeação e conversão de colunas e valores de linhas\n",
    "Muitos dados precisam ser tratados para poderem ser analisados mais apropriadamente"
   ]
  },
  {
   "cell_type": "markdown",
   "id": "52a2a210",
   "metadata": {},
   "source": [
    "Renomeando coluna **tipo_de vítima** para **tipo_vitima**"
   ]
  },
  {
   "cell_type": "code",
   "execution_count": 16,
   "id": "7be9a435-02e1-4afc-99bf-5cd3144d8563",
   "metadata": {},
   "outputs": [],
   "source": [
    "df = df.rename(columns={\"tipo_de vítima\": \"tipo_vitima\"})"
   ]
  },
  {
   "cell_type": "markdown",
   "id": "75a76e7b",
   "metadata": {},
   "source": [
    "Adicionando idade média nos valores nulos da coluna **idade** e renomeando valores nulos das colunas **profissao** e **tipo_vitima**"
   ]
  },
  {
   "cell_type": "code",
   "execution_count": 17,
   "id": "e16aa3cf-bed2-4c6e-bff8-a874e81aa9b0",
   "metadata": {},
   "outputs": [],
   "source": [
    "df[\"idade\"] = df[\"idade\"].fillna(df[\"idade\"].mean())\n",
    "df[\"profissao\"] = df[\"profissao\"].fillna(\"DESCONHECIDA\")\n",
    "df[\"tipo_vitima\"] = df[\"tipo_vitima\"].fillna(\"NAO DISPONIVEL\")"
   ]
  },
  {
   "cell_type": "markdown",
   "id": "e5a3f72e",
   "metadata": {},
   "source": [
    "Renomeando valores _nao disponivel_ da coluna **sexo** para _ignorado_"
   ]
  },
  {
   "cell_type": "code",
   "execution_count": 18,
   "id": "8a6f5456-0919-42e6-aefa-baa16dbbd374",
   "metadata": {},
   "outputs": [],
   "source": [
    "df[\"sexo\"] = df[\"sexo\"].replace({\"NAO DISPONIVEL\": \"IGNORADO\"})"
   ]
  },
  {
   "cell_type": "markdown",
   "id": "fb66ba06",
   "metadata": {},
   "source": [
    "Mudando tipo de dado das colunas **idade, mes_obito, mes_sinistro, ano_obito** e **dia_obito** de `float64` para `int64`"
   ]
  },
  {
   "cell_type": "code",
   "execution_count": 19,
   "id": "bacfb046",
   "metadata": {},
   "outputs": [],
   "source": [
    "df[\"idade\"] = df[\"idade\"].round().astype(\"Int64\")\n",
    "df[\"mes_sinistro\"] = df[\"mes_sinistro\"].astype(\"Int64\")\n",
    "df[\"mes_obito\"] = df[\"mes_obito\"].astype(\"Int64\")\n",
    "df[\"ano_obito\"] = df[\"ano_obito\"].astype(\"Int64\")\n",
    "df[\"dia_obito\"] = df[\"dia_obito\"].astype(\"Int64\")"
   ]
  },
  {
   "cell_type": "markdown",
   "id": "7d08dbde",
   "metadata": {},
   "source": [
    "mudando valores mensais das colunas **mes_sinistro** e **mes_obito** de numérico para texto"
   ]
  },
  {
   "cell_type": "code",
   "execution_count": 20,
   "id": "63e959ef",
   "metadata": {},
   "outputs": [],
   "source": [
    "df[\"mes_obito\"] = df[\"mes_obito\"].astype(\"Int64\").map(month_convert)\n",
    "df[\"mes_sinistro\"] = df[\"mes_sinistro\"].astype(\"Int64\").map(month_convert)"
   ]
  },
  {
   "cell_type": "markdown",
   "id": "018af88e",
   "metadata": {},
   "source": [
    "## Salvando versão limpa em CSV"
   ]
  },
  {
   "cell_type": "code",
   "execution_count": null,
   "id": "5efd99a8",
   "metadata": {},
   "outputs": [],
   "source": [
    "df.to_csv(\"pessoas_completo_limpo.csv\", index=False)"
   ]
  },
  {
   "cell_type": "markdown",
   "id": "bbb79640",
   "metadata": {},
   "source": [
    "# Analise do CSV _sinistros_completo_ "
   ]
  },
  {
   "cell_type": "code",
   "execution_count": 21,
   "id": "82b8da6d",
   "metadata": {},
   "outputs": [],
   "source": [
    "df = pd.read_csv(\"../data/sinistros_completo.csv\")"
   ]
  },
  {
   "cell_type": "code",
   "execution_count": 22,
   "id": "3229e3cb",
   "metadata": {},
   "outputs": [
    {
     "name": "stdout",
     "output_type": "stream",
     "text": [
      "<class 'pandas.core.frame.DataFrame'>\n",
      "RangeIndex: 1240943 entries, 0 to 1240942\n",
      "Data columns (total 43 columns):\n",
      " #   Column                           Non-Null Count    Dtype  \n",
      "---  ------                           --------------    -----  \n",
      " 0   id_sinistro                      1240943 non-null  int64  \n",
      " 1   tipo_registro                    1240943 non-null  object \n",
      " 2   data_sinistro                    1240943 non-null  object \n",
      " 3   ano_sinistro                     1240943 non-null  int64  \n",
      " 4   mes_sinistro                     1240943 non-null  int64  \n",
      " 5   dia_sinistro                     1240943 non-null  int64  \n",
      " 6   ano_mes_sinistro                 1240943 non-null  object \n",
      " 7   hora_sinistro                    1237540 non-null  object \n",
      " 8   logradouro                       1237740 non-null  object \n",
      " 9   numero_logradouro                1231393 non-null  float64\n",
      " 10  tipo_via                         1240943 non-null  object \n",
      " 11  latitude                         1234042 non-null  object \n",
      " 12  longitude                        1234043 non-null  object \n",
      " 13  municipio                        1240936 non-null  object \n",
      " 14  regiao_administrativa            1240936 non-null  object \n",
      " 15  tp_veiculo_bicicleta             30757 non-null    float64\n",
      " 16  tp_veiculo_caminhao              50243 non-null    float64\n",
      " 17  tp_veiculo_motocicleta           483506 non-null   float64\n",
      " 18  tp_veiculo_nao_disponivel        143726 non-null   float64\n",
      " 19  tp_veiculo_onibus                30573 non-null    float64\n",
      " 20  tp_veiculo_outros                27729 non-null    float64\n",
      " 21  tp_veiculo_automovel             512769 non-null   float64\n",
      " 22  gravidade_nao_disponivel         109161 non-null   float64\n",
      " 23  gravidade_leve                   585050 non-null   float64\n",
      " 24  gravidade_fatal                  48167 non-null    float64\n",
      " 25  gravidade_ileso                  0 non-null        float64\n",
      " 26  gravidade_grave                  68404 non-null    float64\n",
      " 27  administracao                    1236403 non-null  object \n",
      " 28  conservacao                      1236403 non-null  object \n",
      " 29  jurisdicao                       1236403 non-null  object \n",
      " 30  tipo_acidente_primario           1240943 non-null  object \n",
      " 31  tp_sinistro_atropelamento        117179 non-null   object \n",
      " 32  tp_sinistro_colisao_frontal      154185 non-null   object \n",
      " 33  tp_sinistro_colisao_traseira     0 non-null        float64\n",
      " 34  tp_sinistro_colisao_lateral      255232 non-null   object \n",
      " 35  tp_sinistro_colisao_transversal  150570 non-null   object \n",
      " 36  tp_sinistro_colisao_outros       8610 non-null     object \n",
      " 37  tp_sinistro_choque               91996 non-null    object \n",
      " 38  tp_sinistro_capotamento          27522 non-null    object \n",
      " 39  tp_sinistro_engavetamento        7309 non-null     object \n",
      " 40  tp_sinistro_tombamento           77604 non-null    object \n",
      " 41  tp_sinistro_outros               597890 non-null   object \n",
      " 42  tp_sinistro_nao_disponivel       214023 non-null   object \n",
      "dtypes: float64(14), int64(4), object(25)\n",
      "memory usage: 407.1+ MB\n"
     ]
    }
   ],
   "source": [
    "df.info()"
   ]
  },
  {
   "cell_type": "code",
   "execution_count": 23,
   "id": "e2c3ff9c",
   "metadata": {},
   "outputs": [
    {
     "data": {
      "text/html": [
       "<div>\n",
       "<style scoped>\n",
       "    .dataframe tbody tr th:only-of-type {\n",
       "        vertical-align: middle;\n",
       "    }\n",
       "\n",
       "    .dataframe tbody tr th {\n",
       "        vertical-align: top;\n",
       "    }\n",
       "\n",
       "    .dataframe thead th {\n",
       "        text-align: right;\n",
       "    }\n",
       "</style>\n",
       "<table border=\"1\" class=\"dataframe\">\n",
       "  <thead>\n",
       "    <tr style=\"text-align: right;\">\n",
       "      <th></th>\n",
       "      <th>conservacao</th>\n",
       "      <th>administracao</th>\n",
       "      <th>jurisdicao</th>\n",
       "      <th>tipo_acidente_primario</th>\n",
       "      <th>regiao_administrativa</th>\n",
       "    </tr>\n",
       "  </thead>\n",
       "  <tbody>\n",
       "    <tr>\n",
       "      <th>0</th>\n",
       "      <td>PREFEITURA</td>\n",
       "      <td>PREFEITURA</td>\n",
       "      <td>MUNICIPAL</td>\n",
       "      <td>ATROPELAMENTO</td>\n",
       "      <td>Campinas</td>\n",
       "    </tr>\n",
       "    <tr>\n",
       "      <th>1</th>\n",
       "      <td>PREFEITURA</td>\n",
       "      <td>PREFEITURA</td>\n",
       "      <td>MUNICIPAL</td>\n",
       "      <td>NAO DISPONIVEL</td>\n",
       "      <td>Barretos</td>\n",
       "    </tr>\n",
       "    <tr>\n",
       "      <th>2</th>\n",
       "      <td>PREFEITURA</td>\n",
       "      <td>PREFEITURA</td>\n",
       "      <td>MUNICIPAL</td>\n",
       "      <td>ATROPELAMENTO</td>\n",
       "      <td>Metropolitana de São Paulo</td>\n",
       "    </tr>\n",
       "    <tr>\n",
       "      <th>3</th>\n",
       "      <td>PREFEITURA</td>\n",
       "      <td>PREFEITURA</td>\n",
       "      <td>MUNICIPAL</td>\n",
       "      <td>ATROPELAMENTO</td>\n",
       "      <td>Metropolitana de São Paulo</td>\n",
       "    </tr>\n",
       "    <tr>\n",
       "      <th>4</th>\n",
       "      <td>PREFEITURA</td>\n",
       "      <td>PREFEITURA</td>\n",
       "      <td>MUNICIPAL</td>\n",
       "      <td>NAO DISPONIVEL</td>\n",
       "      <td>Baixada Santista</td>\n",
       "    </tr>\n",
       "  </tbody>\n",
       "</table>\n",
       "</div>"
      ],
      "text/plain": [
       "  conservacao administracao jurisdicao tipo_acidente_primario  \\\n",
       "0  PREFEITURA    PREFEITURA  MUNICIPAL          ATROPELAMENTO   \n",
       "1  PREFEITURA    PREFEITURA  MUNICIPAL         NAO DISPONIVEL   \n",
       "2  PREFEITURA    PREFEITURA  MUNICIPAL          ATROPELAMENTO   \n",
       "3  PREFEITURA    PREFEITURA  MUNICIPAL          ATROPELAMENTO   \n",
       "4  PREFEITURA    PREFEITURA  MUNICIPAL         NAO DISPONIVEL   \n",
       "\n",
       "        regiao_administrativa  \n",
       "0                    Campinas  \n",
       "1                    Barretos  \n",
       "2  Metropolitana de São Paulo  \n",
       "3  Metropolitana de São Paulo  \n",
       "4            Baixada Santista  "
      ]
     },
     "execution_count": 23,
     "metadata": {},
     "output_type": "execute_result"
    }
   ],
   "source": [
    "df[[\"conservacao\", \"administracao\", \"jurisdicao\", \"tipo_acidente_primario\", \"regiao_administrativa\"]].head()"
   ]
  },
  {
   "cell_type": "code",
   "execution_count": 24,
   "id": "2d3b4601",
   "metadata": {},
   "outputs": [
    {
     "data": {
      "text/plain": [
       "id_sinistro                              0\n",
       "tipo_registro                            0\n",
       "data_sinistro                            0\n",
       "ano_sinistro                             0\n",
       "mes_sinistro                             0\n",
       "dia_sinistro                             0\n",
       "ano_mes_sinistro                         0\n",
       "hora_sinistro                         3403\n",
       "logradouro                            3203\n",
       "numero_logradouro                     9550\n",
       "tipo_via                                 0\n",
       "latitude                              6901\n",
       "longitude                             6900\n",
       "municipio                                7\n",
       "regiao_administrativa                    7\n",
       "tp_veiculo_bicicleta               1210186\n",
       "tp_veiculo_caminhao                1190700\n",
       "tp_veiculo_motocicleta              757437\n",
       "tp_veiculo_nao_disponivel          1097217\n",
       "tp_veiculo_onibus                  1210370\n",
       "tp_veiculo_outros                  1213214\n",
       "tp_veiculo_automovel                728174\n",
       "gravidade_nao_disponivel           1131782\n",
       "gravidade_leve                      655893\n",
       "gravidade_fatal                    1192776\n",
       "gravidade_ileso                    1240943\n",
       "gravidade_grave                    1172539\n",
       "administracao                         4540\n",
       "conservacao                           4540\n",
       "jurisdicao                            4540\n",
       "tipo_acidente_primario                   0\n",
       "tp_sinistro_atropelamento          1123764\n",
       "tp_sinistro_colisao_frontal        1086758\n",
       "tp_sinistro_colisao_traseira       1240943\n",
       "tp_sinistro_colisao_lateral         985711\n",
       "tp_sinistro_colisao_transversal    1090373\n",
       "tp_sinistro_colisao_outros         1232333\n",
       "tp_sinistro_choque                 1148947\n",
       "tp_sinistro_capotamento            1213421\n",
       "tp_sinistro_engavetamento          1233634\n",
       "tp_sinistro_tombamento             1163339\n",
       "tp_sinistro_outros                  643053\n",
       "tp_sinistro_nao_disponivel         1026920\n",
       "dtype: int64"
      ]
     },
     "execution_count": 24,
     "metadata": {},
     "output_type": "execute_result"
    }
   ],
   "source": [
    "df.isna().sum()"
   ]
  },
  {
   "cell_type": "code",
   "execution_count": 31,
   "id": "be5da931",
   "metadata": {},
   "outputs": [
    {
     "data": {
      "text/plain": [
       "Maio         114263\n",
       "Julho        114207\n",
       "Junho        112994\n",
       "Março        106680\n",
       "Abril        103649\n",
       "Outubro      101092\n",
       "Agosto        99833\n",
       "Dezembro      99753\n",
       "Fevereiro     98639\n",
       "Novemrbo      97240\n",
       "Janeiro       96366\n",
       "Setembro      96227\n",
       "Name: mes_sinistro, dtype: int64"
      ]
     },
     "execution_count": 31,
     "metadata": {},
     "output_type": "execute_result"
    }
   ],
   "source": [
    "df[\"mes_sinistro\"].value_counts()"
   ]
  },
  {
   "cell_type": "code",
   "execution_count": 26,
   "id": "08c61247",
   "metadata": {},
   "outputs": [
    {
     "data": {
      "text/plain": [
       "1279303"
      ]
     },
     "execution_count": 26,
     "metadata": {},
     "output_type": "execute_result"
    }
   ],
   "source": [
    "cols_tp_veiculo = [col for col in df.columns if col.startswith(\"tp_veiculo\")]\n",
    "total = df[cols_tp_veiculo].count()\n",
    "total.sum()"
   ]
  },
  {
   "cell_type": "markdown",
   "id": "262a2205",
   "metadata": {},
   "source": [
    "Pela soma de tipo de veiculos por sinistro ser maior que o número total de sinistros podemas analisar que há acidentes com diferentes tipos de veículos e por isso não daria pra juntar todas as colunas **tp_veiculo_xxx** em uma só, e isso tambem ocorre para as colunas **tp_sinistro**"
   ]
  },
  {
   "cell_type": "markdown",
   "id": "d1acffba",
   "metadata": {},
   "source": [
    "## Removendo colunas"
   ]
  },
  {
   "cell_type": "code",
   "execution_count": 27,
   "id": "da062f98",
   "metadata": {},
   "outputs": [],
   "source": [
    "df = df.drop(columns=[\"latitude\", \"longitude\", \"data_sinistro\", \"ano_mes_sinistro\"])"
   ]
  },
  {
   "cell_type": "markdown",
   "id": "8ffcdcc2",
   "metadata": {},
   "source": [
    "## Renomeando valores"
   ]
  },
  {
   "cell_type": "markdown",
   "id": "a49768e0",
   "metadata": {},
   "source": [
    "Mudando todos os valores nulos das colunas **tp_sinistro_xxx** para \"N\" e os das colunas **tp_veiculos_xxx, raviade_xxx** para 0 (int)"
   ]
  },
  {
   "cell_type": "code",
   "execution_count": 28,
   "id": "76949c90",
   "metadata": {},
   "outputs": [],
   "source": [
    "colunas_binarias = [col for col in df.columns if col.startswith(\"tp_sinistro\")]\n",
    "df[colunas_binarias] = df[colunas_binarias].fillna(\"N\")\n",
    "colunas_binarias = [col for col in df.columns if col.startswith(\"gravidade_\") or col.startswith(\"tp_veiculo_\")]\n",
    "df[colunas_binarias] = df[colunas_binarias].fillna(0)"
   ]
  },
  {
   "cell_type": "markdown",
   "id": "2aa9e098",
   "metadata": {},
   "source": [
    "Mudando os tipos de dados das colunas **tp_veiculo_xxx**, **gravidade_xxx** e **numero_logradouro** de `float64` para `int64`"
   ]
  },
  {
   "cell_type": "code",
   "execution_count": 29,
   "id": "61c548e0",
   "metadata": {},
   "outputs": [],
   "source": [
    "df[colunas_binarias] = df[colunas_binarias].astype(int)\n",
    "df[\"numero_logradouro\"] = df[\"numero_logradouro\"].round().astype(\"Int64\")"
   ]
  },
  {
   "cell_type": "markdown",
   "id": "ba1196dc",
   "metadata": {},
   "source": [
    "Mudando os valores dos meses de numérico para texto"
   ]
  },
  {
   "cell_type": "code",
   "execution_count": 30,
   "id": "80fe628e",
   "metadata": {},
   "outputs": [],
   "source": [
    "df[\"mes_sinistro\"] = df[\"mes_sinistro\"].astype(\"Int64\").map(month_convert)"
   ]
  },
  {
   "cell_type": "markdown",
   "id": "67d1705e",
   "metadata": {},
   "source": [
    "## Salvando versão limpa em CSV"
   ]
  },
  {
   "cell_type": "code",
   "execution_count": null,
   "id": "bfbdbf43",
   "metadata": {},
   "outputs": [],
   "source": [
    "df.to_csv(\"sinistros_completo_limpo.csv\", index=False)"
   ]
  },
  {
   "cell_type": "markdown",
   "id": "924e2955",
   "metadata": {},
   "source": [
    "# Analise do CSV _veiculos_completo_ "
   ]
  },
  {
   "cell_type": "code",
   "execution_count": 54,
   "id": "823f1ddd",
   "metadata": {},
   "outputs": [],
   "source": [
    "df = pd.read_csv(\"../data/veiculos_completo.csv\")"
   ]
  },
  {
   "cell_type": "code",
   "execution_count": 35,
   "id": "ad10c637",
   "metadata": {},
   "outputs": [
    {
     "data": {
      "text/html": [
       "<div>\n",
       "<style scoped>\n",
       "    .dataframe tbody tr th:only-of-type {\n",
       "        vertical-align: middle;\n",
       "    }\n",
       "\n",
       "    .dataframe tbody tr th {\n",
       "        vertical-align: top;\n",
       "    }\n",
       "\n",
       "    .dataframe thead th {\n",
       "        text-align: right;\n",
       "    }\n",
       "</style>\n",
       "<table border=\"1\" class=\"dataframe\">\n",
       "  <thead>\n",
       "    <tr style=\"text-align: right;\">\n",
       "      <th></th>\n",
       "      <th>id_sinistro</th>\n",
       "      <th>ano_fab</th>\n",
       "      <th>ano_modelo</th>\n",
       "      <th>cor_veiculo</th>\n",
       "      <th>ano_sinistro</th>\n",
       "      <th>mes_sinistro</th>\n",
       "      <th>dia_sinistro</th>\n",
       "      <th>tipo_veiculo</th>\n",
       "    </tr>\n",
       "  </thead>\n",
       "  <tbody>\n",
       "    <tr>\n",
       "      <th>0</th>\n",
       "      <td>2501575</td>\n",
       "      <td>NaN</td>\n",
       "      <td>NaN</td>\n",
       "      <td>NaN</td>\n",
       "      <td>2014</td>\n",
       "      <td>12</td>\n",
       "      <td>21</td>\n",
       "      <td>OUTROS</td>\n",
       "    </tr>\n",
       "    <tr>\n",
       "      <th>1</th>\n",
       "      <td>2456933</td>\n",
       "      <td>NaN</td>\n",
       "      <td>NaN</td>\n",
       "      <td>NaN</td>\n",
       "      <td>2014</td>\n",
       "      <td>12</td>\n",
       "      <td>23</td>\n",
       "      <td>OUTROS</td>\n",
       "    </tr>\n",
       "    <tr>\n",
       "      <th>2</th>\n",
       "      <td>2456933</td>\n",
       "      <td>1994.0</td>\n",
       "      <td>1995.0</td>\n",
       "      <td>Azul</td>\n",
       "      <td>2014</td>\n",
       "      <td>12</td>\n",
       "      <td>23</td>\n",
       "      <td>AUTOMOVEL</td>\n",
       "    </tr>\n",
       "    <tr>\n",
       "      <th>3</th>\n",
       "      <td>2456933</td>\n",
       "      <td>2011.0</td>\n",
       "      <td>2011.0</td>\n",
       "      <td>Prata</td>\n",
       "      <td>2014</td>\n",
       "      <td>12</td>\n",
       "      <td>23</td>\n",
       "      <td>AUTOMOVEL</td>\n",
       "    </tr>\n",
       "    <tr>\n",
       "      <th>4</th>\n",
       "      <td>2463759</td>\n",
       "      <td>2008.0</td>\n",
       "      <td>2008.0</td>\n",
       "      <td>Prata</td>\n",
       "      <td>2014</td>\n",
       "      <td>12</td>\n",
       "      <td>26</td>\n",
       "      <td>AUTOMOVEL</td>\n",
       "    </tr>\n",
       "  </tbody>\n",
       "</table>\n",
       "</div>"
      ],
      "text/plain": [
       "   id_sinistro  ano_fab  ano_modelo cor_veiculo  ano_sinistro  mes_sinistro  \\\n",
       "0      2501575      NaN         NaN         NaN          2014            12   \n",
       "1      2456933      NaN         NaN         NaN          2014            12   \n",
       "2      2456933   1994.0      1995.0        Azul          2014            12   \n",
       "3      2456933   2011.0      2011.0       Prata          2014            12   \n",
       "4      2463759   2008.0      2008.0       Prata          2014            12   \n",
       "\n",
       "   dia_sinistro tipo_veiculo  \n",
       "0            21       OUTROS  \n",
       "1            23       OUTROS  \n",
       "2            23    AUTOMOVEL  \n",
       "3            23    AUTOMOVEL  \n",
       "4            26    AUTOMOVEL  "
      ]
     },
     "execution_count": 35,
     "metadata": {},
     "output_type": "execute_result"
    }
   ],
   "source": [
    "df.head()"
   ]
  },
  {
   "cell_type": "code",
   "execution_count": 43,
   "id": "06737f29",
   "metadata": {},
   "outputs": [
    {
     "data": {
      "text/html": [
       "<div>\n",
       "<style scoped>\n",
       "    .dataframe tbody tr th:only-of-type {\n",
       "        vertical-align: middle;\n",
       "    }\n",
       "\n",
       "    .dataframe tbody tr th {\n",
       "        vertical-align: top;\n",
       "    }\n",
       "\n",
       "    .dataframe thead th {\n",
       "        text-align: right;\n",
       "    }\n",
       "</style>\n",
       "<table border=\"1\" class=\"dataframe\">\n",
       "  <thead>\n",
       "    <tr style=\"text-align: right;\">\n",
       "      <th></th>\n",
       "      <th>id_sinistro</th>\n",
       "      <th>ano_fab</th>\n",
       "      <th>ano_modelo</th>\n",
       "      <th>cor_veiculo</th>\n",
       "      <th>ano_sinistro</th>\n",
       "      <th>mes_sinistro</th>\n",
       "      <th>dia_sinistro</th>\n",
       "      <th>tipo_veiculo</th>\n",
       "    </tr>\n",
       "  </thead>\n",
       "  <tbody>\n",
       "    <tr>\n",
       "      <th>0</th>\n",
       "      <td>2501575</td>\n",
       "      <td>0</td>\n",
       "      <td>&lt;NA&gt;</td>\n",
       "      <td>NaN</td>\n",
       "      <td>2014</td>\n",
       "      <td>Dezembro</td>\n",
       "      <td>21</td>\n",
       "      <td>OUTROS</td>\n",
       "    </tr>\n",
       "    <tr>\n",
       "      <th>1</th>\n",
       "      <td>2456933</td>\n",
       "      <td>0</td>\n",
       "      <td>&lt;NA&gt;</td>\n",
       "      <td>NaN</td>\n",
       "      <td>2014</td>\n",
       "      <td>Dezembro</td>\n",
       "      <td>23</td>\n",
       "      <td>OUTROS</td>\n",
       "    </tr>\n",
       "    <tr>\n",
       "      <th>2</th>\n",
       "      <td>2456933</td>\n",
       "      <td>1994</td>\n",
       "      <td>1995</td>\n",
       "      <td>Azul</td>\n",
       "      <td>2014</td>\n",
       "      <td>Dezembro</td>\n",
       "      <td>23</td>\n",
       "      <td>AUTOMOVEL</td>\n",
       "    </tr>\n",
       "    <tr>\n",
       "      <th>3</th>\n",
       "      <td>2456933</td>\n",
       "      <td>2011</td>\n",
       "      <td>2011</td>\n",
       "      <td>Prata</td>\n",
       "      <td>2014</td>\n",
       "      <td>Dezembro</td>\n",
       "      <td>23</td>\n",
       "      <td>AUTOMOVEL</td>\n",
       "    </tr>\n",
       "    <tr>\n",
       "      <th>4</th>\n",
       "      <td>2463759</td>\n",
       "      <td>2008</td>\n",
       "      <td>2008</td>\n",
       "      <td>Prata</td>\n",
       "      <td>2014</td>\n",
       "      <td>Dezembro</td>\n",
       "      <td>26</td>\n",
       "      <td>AUTOMOVEL</td>\n",
       "    </tr>\n",
       "  </tbody>\n",
       "</table>\n",
       "</div>"
      ],
      "text/plain": [
       "   id_sinistro  ano_fab  ano_modelo cor_veiculo  ano_sinistro mes_sinistro  \\\n",
       "0      2501575        0        <NA>         NaN          2014     Dezembro   \n",
       "1      2456933        0        <NA>         NaN          2014     Dezembro   \n",
       "2      2456933     1994        1995        Azul          2014     Dezembro   \n",
       "3      2456933     2011        2011       Prata          2014     Dezembro   \n",
       "4      2463759     2008        2008       Prata          2014     Dezembro   \n",
       "\n",
       "   dia_sinistro tipo_veiculo  \n",
       "0            21       OUTROS  \n",
       "1            23       OUTROS  \n",
       "2            23    AUTOMOVEL  \n",
       "3            23    AUTOMOVEL  \n",
       "4            26    AUTOMOVEL  "
      ]
     },
     "execution_count": 43,
     "metadata": {},
     "output_type": "execute_result"
    }
   ],
   "source": [
    "df.head()"
   ]
  },
  {
   "cell_type": "code",
   "execution_count": 58,
   "id": "4037ad18",
   "metadata": {},
   "outputs": [
    {
     "data": {
      "text/plain": [
       "0       177061\n",
       "2011     74557\n",
       "2019     68270\n",
       "2013     65554\n",
       "2018     63500\n",
       "         ...  \n",
       "75           1\n",
       "85           1\n",
       "15           1\n",
       "5015         1\n",
       "2812         1\n",
       "Name: ano_fab, Length: 175, dtype: Int64"
      ]
     },
     "execution_count": 58,
     "metadata": {},
     "output_type": "execute_result"
    }
   ],
   "source": [
    "df[\"ano_fab\"].value_counts()"
   ]
  },
  {
   "cell_type": "markdown",
   "id": "b87e55ed",
   "metadata": {},
   "source": [
    "## Removendo colunas"
   ]
  },
  {
   "cell_type": "code",
   "execution_count": 56,
   "id": "3bc57d57",
   "metadata": {},
   "outputs": [],
   "source": [
    "df = df.drop(columns=[\"data_sinistro\", \"ano_mes_sinistro\"])"
   ]
  },
  {
   "cell_type": "markdown",
   "id": "ef6aa558",
   "metadata": {},
   "source": [
    "## Renomeando valores"
   ]
  },
  {
   "cell_type": "markdown",
   "id": "19a9c69b",
   "metadata": {},
   "source": [
    "Trocando valores da coluna **mes_sinistro** de numérico para texto, e mudando os tipos de valores de **ano_fab** e **ano_modelo** de `float64` para `Int64`"
   ]
  },
  {
   "cell_type": "code",
   "execution_count": 57,
   "id": "abe6468e",
   "metadata": {},
   "outputs": [],
   "source": [
    "df[\"mes_sinistro\"] = df[\"mes_sinistro\"].astype(\"Int64\").map(month_convert)\n",
    "df[\"ano_fab\"] = df[\"ano_fab\"].astype(\"Int64\")\n",
    "df[\"ano_modelo\"] = df[\"ano_modelo\"].astype(\"Int64\")"
   ]
  },
  {
   "cell_type": "markdown",
   "id": "10969d5c",
   "metadata": {},
   "source": [
    "Colocando a moda como valor no lugar dos valores nulos das colunas **ano_fab** e **ano_modelo**"
   ]
  },
  {
   "cell_type": "code",
   "execution_count": 65,
   "id": "6633d83c",
   "metadata": {},
   "outputs": [],
   "source": [
    "moda = df.loc[df[\"ano_fab\"] != 0, \"ano_fab\"].mode()\n",
    "df[\"ano_fab\"] = df[\"ano_fab\"].fillna(moda)\n",
    "moda = df.loc[df[\"ano_modelo\"] != 0, \"ano_modelo\"].mode()\n",
    "df[\"ano_modelo\"] = df[\"ano_modelo\"].fillna(moda)"
   ]
  },
  {
   "cell_type": "markdown",
   "id": "f1a539f3",
   "metadata": {},
   "source": [
    "Renomeando os valores nulos da coluna **cor_veiculo**"
   ]
  },
  {
   "cell_type": "code",
   "execution_count": null,
   "id": "d84a21d5",
   "metadata": {},
   "outputs": [],
   "source": [
    "df[\"cor_veiculo\"] = df[\"cor_veiculo\"].fillna(\"IGNORADO\")"
   ]
  },
  {
   "cell_type": "markdown",
   "id": "d8f7618f",
   "metadata": {},
   "source": [
    "## Salvando versão limpa em CSV"
   ]
  },
  {
   "cell_type": "code",
   "execution_count": 18,
   "id": "c59e38b6",
   "metadata": {},
   "outputs": [],
   "source": [
    "df.to_csv(\"veiculos_completo_limpo.csv\", index=False)"
   ]
  }
 ],
 "metadata": {
  "kernelspec": {
   "display_name": "Python 3 (ipykernel)",
   "language": "python",
   "name": "python3"
  },
  "language_info": {
   "codemirror_mode": {
    "name": "ipython",
    "version": 3
   },
   "file_extension": ".py",
   "mimetype": "text/x-python",
   "name": "python",
   "nbconvert_exporter": "python",
   "pygments_lexer": "ipython3",
   "version": "3.11.2"
  }
 },
 "nbformat": 4,
 "nbformat_minor": 5
}
